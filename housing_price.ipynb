{
 "cells": [
  {
   "cell_type": "code",
   "execution_count": 1,
   "id": "c278c235",
   "metadata": {},
   "outputs": [],
   "source": [
    "import matplotlib.pyplot as plt\n",
    "import numpy as np\n",
    "import pandas as pd\n",
    "import pylab as pl\n",
    "import seaborn as sns\n",
    "from sklearn import linear_model"
   ]
  },
  {
   "cell_type": "markdown",
   "id": "d4230290",
   "metadata": {},
   "source": [
    "data visualization"
   ]
  },
  {
   "cell_type": "code",
   "execution_count": 2,
   "id": "8f870c6b",
   "metadata": {},
   "outputs": [],
   "source": [
    "\n",
    "data=pd.read_csv(r'C:\\Users\\Ghalamkarian\\PycharmProjects\\pythonProject3\\house_prices.csv' )"
   ]
  },
  {
   "cell_type": "code",
   "execution_count": 3,
   "id": "b6cd349c",
   "metadata": {},
   "outputs": [
    {
     "data": {
      "text/html": [
       "<div>\n",
       "<style scoped>\n",
       "    .dataframe tbody tr th:only-of-type {\n",
       "        vertical-align: middle;\n",
       "    }\n",
       "\n",
       "    .dataframe tbody tr th {\n",
       "        vertical-align: top;\n",
       "    }\n",
       "\n",
       "    .dataframe thead th {\n",
       "        text-align: right;\n",
       "    }\n",
       "</style>\n",
       "<table border=\"1\" class=\"dataframe\">\n",
       "  <thead>\n",
       "    <tr style=\"text-align: right;\">\n",
       "      <th></th>\n",
       "      <th>Room</th>\n",
       "      <th>Price</th>\n",
       "      <th>Price(USD)</th>\n",
       "    </tr>\n",
       "  </thead>\n",
       "  <tbody>\n",
       "    <tr>\n",
       "      <th>count</th>\n",
       "      <td>3479.000000</td>\n",
       "      <td>3.479000e+03</td>\n",
       "      <td>3.479000e+03</td>\n",
       "    </tr>\n",
       "    <tr>\n",
       "      <th>mean</th>\n",
       "      <td>2.079908</td>\n",
       "      <td>5.359023e+09</td>\n",
       "      <td>1.786341e+05</td>\n",
       "    </tr>\n",
       "    <tr>\n",
       "      <th>std</th>\n",
       "      <td>0.758275</td>\n",
       "      <td>8.099935e+09</td>\n",
       "      <td>2.699978e+05</td>\n",
       "    </tr>\n",
       "    <tr>\n",
       "      <th>min</th>\n",
       "      <td>0.000000</td>\n",
       "      <td>3.600000e+06</td>\n",
       "      <td>1.200000e+02</td>\n",
       "    </tr>\n",
       "    <tr>\n",
       "      <th>25%</th>\n",
       "      <td>2.000000</td>\n",
       "      <td>1.418250e+09</td>\n",
       "      <td>4.727500e+04</td>\n",
       "    </tr>\n",
       "    <tr>\n",
       "      <th>50%</th>\n",
       "      <td>2.000000</td>\n",
       "      <td>2.900000e+09</td>\n",
       "      <td>9.666667e+04</td>\n",
       "    </tr>\n",
       "    <tr>\n",
       "      <th>75%</th>\n",
       "      <td>2.000000</td>\n",
       "      <td>6.000000e+09</td>\n",
       "      <td>2.000000e+05</td>\n",
       "    </tr>\n",
       "    <tr>\n",
       "      <th>max</th>\n",
       "      <td>5.000000</td>\n",
       "      <td>9.240000e+10</td>\n",
       "      <td>3.080000e+06</td>\n",
       "    </tr>\n",
       "  </tbody>\n",
       "</table>\n",
       "</div>"
      ],
      "text/plain": [
       "              Room         Price    Price(USD)\n",
       "count  3479.000000  3.479000e+03  3.479000e+03\n",
       "mean      2.079908  5.359023e+09  1.786341e+05\n",
       "std       0.758275  8.099935e+09  2.699978e+05\n",
       "min       0.000000  3.600000e+06  1.200000e+02\n",
       "25%       2.000000  1.418250e+09  4.727500e+04\n",
       "50%       2.000000  2.900000e+09  9.666667e+04\n",
       "75%       2.000000  6.000000e+09  2.000000e+05\n",
       "max       5.000000  9.240000e+10  3.080000e+06"
      ]
     },
     "execution_count": 3,
     "metadata": {},
     "output_type": "execute_result"
    }
   ],
   "source": [
    "data.describe()"
   ]
  },
  {
   "cell_type": "code",
   "execution_count": 4,
   "id": "dcd4067e",
   "metadata": {},
   "outputs": [
    {
     "data": {
      "text/plain": [
       "array(['63', '60', '79', '95', '123', '70', '87', '59', '54', '71', '68',\n",
       "       '64', '136', '155', '140', '42', '93', '65', '99', '105', '160',\n",
       "       '77', '110', '100', '90', '49', '96', '67', '62', '55', '129',\n",
       "       '109', '58', '150', '130', '88', '51', '113', '98', '75', '61',\n",
       "       '72', '122', '215', '101', '53', '74', '114', '151', '300', '76',\n",
       "       '148', '40', '128', '94', '97', '137', '85', '78', '48', '82',\n",
       "       '120', '139', '66', '80', '44', '50', '121', '141', '127', '180',\n",
       "       '158', '144', '245', '190', '108', '117', '200', '125', '236',\n",
       "       '220', '86', '84', '106', '320', '154', '210', '124', '83', '270',\n",
       "       '104', '103', '165', '135', '132', '81', '153', '166', '175',\n",
       "       '170', '115', '118', '116', '43', '230', '91', '126', '450', '500',\n",
       "       '145', '112', '192', '164', '265', '92', '143', '350', '335',\n",
       "       '235', '225', '221', '312', '188', '198', '650', '179', '256',\n",
       "       '257', '167', '246', '168', '280', '69', '400', '660', '213', '57',\n",
       "       '102', '133', '73', '134', '191', '282', '89', '111', '147', '157',\n",
       "       '283', '3,310,000,000', '863', '415', '173', '162', '156', '171',\n",
       "       '261', '45', '161', '16,160,000,000', '46', '107', '420', '131',\n",
       "       '185', '250', '216', '1,000', '680', '750', '202', '138', '38',\n",
       "       '56', '197', '52', '365', '181', '146', '240', '142', '303', '203',\n",
       "       '204', '255', '194', '600', '377', '231', '195', '176', '290',\n",
       "       '149', '238', '226', '574', '360', '37', '465', '403', '405', '41',\n",
       "       '228', '177', '310', '193', '8,400,000,000', '287', '929', '550',\n",
       "       '47', '380', '182', '119', '705', '222', '152', '209', '232',\n",
       "       '900', '201', '174', '3,600', '39', '172', '35', '32', '211',\n",
       "       '258', '700', '163', '208', '253', '33', '2,550,000,000', '330',\n",
       "       '212', '345', '530', '630', '30', '205', '285', '186'],\n",
       "      dtype=object)"
      ]
     },
     "execution_count": 4,
     "metadata": {},
     "output_type": "execute_result"
    }
   ],
   "source": [
    "s=data['Area'].unique()\n",
    "s"
   ]
  },
  {
   "cell_type": "code",
   "execution_count": 5,
   "id": "c87c81aa",
   "metadata": {},
   "outputs": [
    {
     "data": {
      "text/plain": [
       "Area           0\n",
       "Room           0\n",
       "Parking        0\n",
       "Warehouse      0\n",
       "Elevator       0\n",
       "Address       23\n",
       "Price          0\n",
       "Price(USD)     0\n",
       "dtype: int64"
      ]
     },
     "execution_count": 5,
     "metadata": {},
     "output_type": "execute_result"
    }
   ],
   "source": [
    "#is there any empty cell\n",
    "data.isnull().sum()"
   ]
  },
  {
   "cell_type": "code",
   "execution_count": 6,
   "id": "4f2b21d3",
   "metadata": {},
   "outputs": [],
   "source": [
    "#converting str to numeric\n",
    "data['Area'] = pd.to_numeric(data['Area'], errors='coerce')\n",
    "#becase "
   ]
  },
  {
   "cell_type": "code",
   "execution_count": 7,
   "id": "ec2660e3",
   "metadata": {},
   "outputs": [
    {
     "data": {
      "text/plain": [
       "array([ 63.,  60.,  79.,  95., 123.,  70.,  87.,  59.,  54.,  71.,  68.,\n",
       "        64., 136., 155., 140.,  42.,  93.,  65.,  99., 105., 160.,  77.,\n",
       "       110., 100.,  90.,  49.,  96.,  67.,  62.,  55., 129., 109.,  58.,\n",
       "       150., 130.,  88.,  51., 113.,  98.,  75.,  61.,  72., 122., 215.,\n",
       "       101.,  53.,  74., 114., 151., 300.,  76., 148.,  40., 128.,  94.,\n",
       "        97., 137.,  85.,  78.,  48.,  82., 120., 139.,  66.,  80.,  44.,\n",
       "        50., 121., 141., 127., 180., 158., 144., 245., 190., 108., 117.,\n",
       "       200., 125., 236., 220.,  86.,  84., 106., 320., 154., 210., 124.,\n",
       "        83., 270., 104., 103., 165., 135., 132.,  81., 153., 166., 175.,\n",
       "       170., 115., 118., 116.,  43., 230.,  91., 126., 450., 500., 145.,\n",
       "       112., 192., 164., 265.,  92., 143., 350., 335., 235., 225., 221.,\n",
       "       312., 188., 198., 650., 179., 256., 257., 167., 246., 168., 280.,\n",
       "        69., 400., 660., 213.,  57., 102., 133.,  73., 134., 191., 282.,\n",
       "        89., 111., 147., 157., 283.,  nan, 863., 415., 173., 162., 156.,\n",
       "       171., 261.,  45., 161.,  46., 107., 420., 131., 185., 250., 216.,\n",
       "       680., 750., 202., 138.,  38.,  56., 197.,  52., 365., 181., 146.,\n",
       "       240., 142., 303., 203., 204., 255., 194., 600., 377., 231., 195.,\n",
       "       176., 290., 149., 238., 226., 574., 360.,  37., 465., 403., 405.,\n",
       "        41., 228., 177., 310., 193., 287., 929., 550.,  47., 380., 182.,\n",
       "       119., 705., 222., 152., 209., 232., 900., 201., 174.,  39., 172.,\n",
       "        35.,  32., 211., 258., 700., 163., 208., 253.,  33., 330., 212.,\n",
       "       345., 530., 630.,  30., 205., 285., 186.])"
      ]
     },
     "execution_count": 7,
     "metadata": {},
     "output_type": "execute_result"
    }
   ],
   "source": [
    "s=data['Area'].unique()\n",
    "s"
   ]
  },
  {
   "cell_type": "code",
   "execution_count": 8,
   "id": "a03f2649",
   "metadata": {},
   "outputs": [
    {
     "data": {
      "text/plain": [
       "dtype('float64')"
      ]
     },
     "execution_count": 8,
     "metadata": {},
     "output_type": "execute_result"
    }
   ],
   "source": [
    "#type of the data\n",
    "data['Area'].dtype"
   ]
  },
  {
   "cell_type": "code",
   "execution_count": 9,
   "id": "af853891",
   "metadata": {},
   "outputs": [
    {
     "data": {
      "text/plain": [
       "Area           6\n",
       "Room           0\n",
       "Parking        0\n",
       "Warehouse      0\n",
       "Elevator       0\n",
       "Address       23\n",
       "Price          0\n",
       "Price(USD)     0\n",
       "dtype: int64"
      ]
     },
     "execution_count": 9,
     "metadata": {},
     "output_type": "execute_result"
    }
   ],
   "source": [
    "#is there any empty cell\n",
    "data.isnull().sum()\n",
    "#because there were some str data when they converted to numeric the string data omited"
   ]
  },
  {
   "cell_type": "code",
   "execution_count": 10,
   "id": "668fe0a6",
   "metadata": {},
   "outputs": [],
   "source": [
    "#omiting empty data\n",
    "data.dropna(inplace=True)\n",
    "data.to_csv('clean_file.csv', index=False)"
   ]
  },
  {
   "cell_type": "code",
   "execution_count": 11,
   "id": "1fe0d841",
   "metadata": {},
   "outputs": [
    {
     "name": "stdout",
     "output_type": "stream",
     "text": [
      "C:\\Users\\Ghalamkarian\n"
     ]
    }
   ],
   "source": [
    "import os\n",
    "\n",
    "print(os.getcwd())"
   ]
  },
  {
   "cell_type": "code",
   "execution_count": 12,
   "id": "1e645fb7",
   "metadata": {},
   "outputs": [],
   "source": [
    "\n",
    "data=pd.read_csv(r'C:\\Users\\Ghalamkarian\\PycharmProjects\\pythonProject3\\clean_file.csv' )"
   ]
  },
  {
   "cell_type": "code",
   "execution_count": 13,
   "id": "9f4a5234",
   "metadata": {},
   "outputs": [
    {
     "data": {
      "text/html": [
       "<div>\n",
       "<style scoped>\n",
       "    .dataframe tbody tr th:only-of-type {\n",
       "        vertical-align: middle;\n",
       "    }\n",
       "\n",
       "    .dataframe tbody tr th {\n",
       "        vertical-align: top;\n",
       "    }\n",
       "\n",
       "    .dataframe thead th {\n",
       "        text-align: right;\n",
       "    }\n",
       "</style>\n",
       "<table border=\"1\" class=\"dataframe\">\n",
       "  <thead>\n",
       "    <tr style=\"text-align: right;\">\n",
       "      <th></th>\n",
       "      <th>Area</th>\n",
       "      <th>Room</th>\n",
       "      <th>Price</th>\n",
       "      <th>Price(USD)</th>\n",
       "    </tr>\n",
       "  </thead>\n",
       "  <tbody>\n",
       "    <tr>\n",
       "      <th>count</th>\n",
       "      <td>3450.000000</td>\n",
       "      <td>3450.000000</td>\n",
       "      <td>3.450000e+03</td>\n",
       "      <td>3.450000e+03</td>\n",
       "    </tr>\n",
       "    <tr>\n",
       "      <th>mean</th>\n",
       "      <td>106.917391</td>\n",
       "      <td>2.081159</td>\n",
       "      <td>5.375563e+09</td>\n",
       "      <td>1.791854e+05</td>\n",
       "    </tr>\n",
       "    <tr>\n",
       "      <th>std</th>\n",
       "      <td>69.550976</td>\n",
       "      <td>0.760216</td>\n",
       "      <td>8.125918e+09</td>\n",
       "      <td>2.708639e+05</td>\n",
       "    </tr>\n",
       "    <tr>\n",
       "      <th>min</th>\n",
       "      <td>30.000000</td>\n",
       "      <td>0.000000</td>\n",
       "      <td>3.600000e+06</td>\n",
       "      <td>1.200000e+02</td>\n",
       "    </tr>\n",
       "    <tr>\n",
       "      <th>25%</th>\n",
       "      <td>69.000000</td>\n",
       "      <td>2.000000</td>\n",
       "      <td>1.419250e+09</td>\n",
       "      <td>4.730833e+04</td>\n",
       "    </tr>\n",
       "    <tr>\n",
       "      <th>50%</th>\n",
       "      <td>90.000000</td>\n",
       "      <td>2.000000</td>\n",
       "      <td>2.900000e+09</td>\n",
       "      <td>9.666667e+04</td>\n",
       "    </tr>\n",
       "    <tr>\n",
       "      <th>75%</th>\n",
       "      <td>120.000000</td>\n",
       "      <td>2.000000</td>\n",
       "      <td>6.000000e+09</td>\n",
       "      <td>2.000000e+05</td>\n",
       "    </tr>\n",
       "    <tr>\n",
       "      <th>max</th>\n",
       "      <td>929.000000</td>\n",
       "      <td>5.000000</td>\n",
       "      <td>9.240000e+10</td>\n",
       "      <td>3.080000e+06</td>\n",
       "    </tr>\n",
       "  </tbody>\n",
       "</table>\n",
       "</div>"
      ],
      "text/plain": [
       "              Area         Room         Price    Price(USD)\n",
       "count  3450.000000  3450.000000  3.450000e+03  3.450000e+03\n",
       "mean    106.917391     2.081159  5.375563e+09  1.791854e+05\n",
       "std      69.550976     0.760216  8.125918e+09  2.708639e+05\n",
       "min      30.000000     0.000000  3.600000e+06  1.200000e+02\n",
       "25%      69.000000     2.000000  1.419250e+09  4.730833e+04\n",
       "50%      90.000000     2.000000  2.900000e+09  9.666667e+04\n",
       "75%     120.000000     2.000000  6.000000e+09  2.000000e+05\n",
       "max     929.000000     5.000000  9.240000e+10  3.080000e+06"
      ]
     },
     "execution_count": 13,
     "metadata": {},
     "output_type": "execute_result"
    }
   ],
   "source": [
    "data.describe()"
   ]
  },
  {
   "cell_type": "code",
   "execution_count": 14,
   "id": "7ec71e03",
   "metadata": {},
   "outputs": [
    {
     "data": {
      "text/plain": [
       "Area          0\n",
       "Room          0\n",
       "Parking       0\n",
       "Warehouse     0\n",
       "Elevator      0\n",
       "Address       0\n",
       "Price         0\n",
       "Price(USD)    0\n",
       "dtype: int64"
      ]
     },
     "execution_count": 14,
     "metadata": {},
     "output_type": "execute_result"
    }
   ],
   "source": [
    "#is there any empty cell\n",
    "data.isnull().sum()"
   ]
  },
  {
   "cell_type": "code",
   "execution_count": 15,
   "id": "428e77fb",
   "metadata": {},
   "outputs": [
    {
     "name": "stdout",
     "output_type": "stream",
     "text": [
      "C:\\Users\\Ghalamkarian\n"
     ]
    }
   ],
   "source": [
    "#omiting outlier data\n",
    "from scipy import stats\n",
    "\n",
    "# Calculate z-scores for each numeric column\n",
    "z_scores = stats.zscore(data.select_dtypes(include='number'))\n",
    "\n",
    "# Define a threshold (e.g., z-score > 3) to identify outliers\n",
    "threshold = 3\n",
    "\n",
    "# Create a boolean mask to identify rows with outliers\n",
    "outlier_mask = (z_scores > threshold).any(axis=1)\n",
    "\n",
    "# Remove rows with outliers from the dataframe\n",
    "df = data[~outlier_mask]\n",
    "\n",
    "df.to_csv('homeprice5.csv', index=False)\n",
    "\n",
    "import os\n",
    "\n",
    "print(os.getcwd())\n"
   ]
  },
  {
   "cell_type": "code",
   "execution_count": 16,
   "id": "83ce77e9",
   "metadata": {},
   "outputs": [],
   "source": [
    "data3=pd.read_csv(r'C:\\Users\\Ghalamkarian\\PycharmProjects\\pythonProject3\\homeprice7.csv' )"
   ]
  },
  {
   "cell_type": "code",
   "execution_count": 17,
   "id": "28869ca0",
   "metadata": {},
   "outputs": [],
   "source": [
    "#data3['Area'] = pd.to_numeric(data['Area'], errors='coerce')"
   ]
  },
  {
   "cell_type": "code",
   "execution_count": 18,
   "id": "554dcd99",
   "metadata": {
    "scrolled": true
   },
   "outputs": [
    {
     "data": {
      "text/html": [
       "<div>\n",
       "<style scoped>\n",
       "    .dataframe tbody tr th:only-of-type {\n",
       "        vertical-align: middle;\n",
       "    }\n",
       "\n",
       "    .dataframe tbody tr th {\n",
       "        vertical-align: top;\n",
       "    }\n",
       "\n",
       "    .dataframe thead th {\n",
       "        text-align: right;\n",
       "    }\n",
       "</style>\n",
       "<table border=\"1\" class=\"dataframe\">\n",
       "  <thead>\n",
       "    <tr style=\"text-align: right;\">\n",
       "      <th></th>\n",
       "      <th>Area</th>\n",
       "      <th>Room</th>\n",
       "      <th>Price</th>\n",
       "      <th>Price(USD)</th>\n",
       "    </tr>\n",
       "  </thead>\n",
       "  <tbody>\n",
       "    <tr>\n",
       "      <th>count</th>\n",
       "      <td>3331.000000</td>\n",
       "      <td>3331.000000</td>\n",
       "      <td>3.331000e+03</td>\n",
       "      <td>3331.000000</td>\n",
       "    </tr>\n",
       "    <tr>\n",
       "      <th>mean</th>\n",
       "      <td>98.040228</td>\n",
       "      <td>2.024017</td>\n",
       "      <td>4.356566e+09</td>\n",
       "      <td>145218.863269</td>\n",
       "    </tr>\n",
       "    <tr>\n",
       "      <th>std</th>\n",
       "      <td>41.638818</td>\n",
       "      <td>0.681387</td>\n",
       "      <td>4.595051e+09</td>\n",
       "      <td>153168.357115</td>\n",
       "    </tr>\n",
       "    <tr>\n",
       "      <th>min</th>\n",
       "      <td>30.000000</td>\n",
       "      <td>0.000000</td>\n",
       "      <td>3.600000e+06</td>\n",
       "      <td>120.000000</td>\n",
       "    </tr>\n",
       "    <tr>\n",
       "      <th>25%</th>\n",
       "      <td>68.000000</td>\n",
       "      <td>2.000000</td>\n",
       "      <td>1.367500e+09</td>\n",
       "      <td>45583.335000</td>\n",
       "    </tr>\n",
       "    <tr>\n",
       "      <th>50%</th>\n",
       "      <td>89.000000</td>\n",
       "      <td>2.000000</td>\n",
       "      <td>2.750000e+09</td>\n",
       "      <td>91666.670000</td>\n",
       "    </tr>\n",
       "    <tr>\n",
       "      <th>75%</th>\n",
       "      <td>115.000000</td>\n",
       "      <td>2.000000</td>\n",
       "      <td>5.600000e+09</td>\n",
       "      <td>186666.670000</td>\n",
       "    </tr>\n",
       "    <tr>\n",
       "      <th>max</th>\n",
       "      <td>300.000000</td>\n",
       "      <td>4.000000</td>\n",
       "      <td>2.970000e+10</td>\n",
       "      <td>990000.000000</td>\n",
       "    </tr>\n",
       "  </tbody>\n",
       "</table>\n",
       "</div>"
      ],
      "text/plain": [
       "              Area         Room         Price     Price(USD)\n",
       "count  3331.000000  3331.000000  3.331000e+03    3331.000000\n",
       "mean     98.040228     2.024017  4.356566e+09  145218.863269\n",
       "std      41.638818     0.681387  4.595051e+09  153168.357115\n",
       "min      30.000000     0.000000  3.600000e+06     120.000000\n",
       "25%      68.000000     2.000000  1.367500e+09   45583.335000\n",
       "50%      89.000000     2.000000  2.750000e+09   91666.670000\n",
       "75%     115.000000     2.000000  5.600000e+09  186666.670000\n",
       "max     300.000000     4.000000  2.970000e+10  990000.000000"
      ]
     },
     "execution_count": 18,
     "metadata": {},
     "output_type": "execute_result"
    }
   ],
   "source": [
    "data3.describe()"
   ]
  },
  {
   "cell_type": "code",
   "execution_count": 19,
   "id": "56cabe97",
   "metadata": {},
   "outputs": [],
   "source": [
    "data2=data3[['Area','Price']]"
   ]
  },
  {
   "cell_type": "markdown",
   "id": "fc03933b",
   "metadata": {},
   "source": [
    "Normalization"
   ]
  },
  {
   "cell_type": "code",
   "execution_count": 20,
   "id": "8eb72a39",
   "metadata": {},
   "outputs": [
    {
     "data": {
      "text/plain": [
       "<matplotlib.collections.PathCollection at 0x228857a2c90>"
      ]
     },
     "execution_count": 20,
     "metadata": {},
     "output_type": "execute_result"
    },
    {
     "data": {
      "image/png": "[encoded data removed]",
      "text/plain": [
       "<Figure size 640x480 with 1 Axes>"
      ]
     },
     "metadata": {},
     "output_type": "display_data"
    }
   ],
   "source": [
    "#normalization\n",
    "#y1= data2['Price']/max(data['Price'])\n",
    "#x1= data2['Area']/data['Area'].max()\n",
    "\n",
    "y= data2['Price']\n",
    "x= data2['Area']\n",
    "\n",
    "#plt.plot(x,y,'ro')\n",
    "plt.scatter(x, y, color='green')"
   ]
  },
  {
   "cell_type": "code",
   "execution_count": 21,
   "id": "6f1b818f",
   "metadata": {},
   "outputs": [
    {
     "name": "stdout",
     "output_type": "stream",
     "text": [
      "[ True  True  True ...  True  True  True]\n",
      "       Area       Price\n",
      "0      63.0  1850000000\n",
      "1      60.0  1850000000\n",
      "2      79.0   550000000\n",
      "3      95.0   902500000\n",
      "4     123.0  7000000000\n",
      "...     ...         ...\n",
      "3325   63.0  1890000000\n",
      "3326   86.0  3500000000\n",
      "3328   75.0   365000000\n",
      "3329  105.0  5600000000\n",
      "3330   82.0   360000000\n",
      "\n",
      "[2715 rows x 2 columns]\n",
      "       Area        Price\n",
      "9      71.0   2370000000\n",
      "15     63.0    570000000\n",
      "20     93.0   7000000000\n",
      "23     99.0   2277000000\n",
      "25    160.0  14945000000\n",
      "...     ...          ...\n",
      "3306   60.0   1860000000\n",
      "3310  148.0   6000000000\n",
      "3311   80.0   2250000000\n",
      "3324  113.0   3170000000\n",
      "3327   83.0   6800000000\n",
      "\n",
      "[616 rows x 2 columns]\n"
     ]
    }
   ],
   "source": [
    "msk=np.random.rand(len(data2)) < 0.8\n",
    "print(msk)\n",
    "train=data2[msk]\n",
    "print(train)\n",
    "test=data2[~msk]\n",
    "print(test)"
   ]
  },
  {
   "cell_type": "code",
   "execution_count": 22,
   "id": "34fb2966",
   "metadata": {},
   "outputs": [
    {
     "data": {
      "image/png": "[encoded data removed]",
      "text/plain": [
       "<Figure size 640x480 with 1 Axes>"
      ]
     },
     "metadata": {},
     "output_type": "display_data"
    }
   ],
   "source": [
    "fig=plt.figure()\n",
    "ax1=fig.add_subplot(111)\n",
    "\n",
    "ax1.scatter(train['Area'], train['Price'], color='green')\n",
    "ax1.scatter(test['Area'], test['Price'], color='blue')\n",
    "plt.show()\n"
   ]
  },
  {
   "cell_type": "markdown",
   "id": "a19f1b2c",
   "metadata": {},
   "source": [
    "simple linear regression"
   ]
  },
  {
   "cell_type": "code",
   "execution_count": 23,
   "id": "cb066d79",
   "metadata": {},
   "outputs": [
    {
     "name": "stdout",
     "output_type": "stream",
     "text": [
      "coef [[88661271.502877]]\n",
      "intercept [-4.31363846e+09]\n"
     ]
    }
   ],
   "source": [
    "from sklearn import linear_model\n",
    "regr=linear_model.LinearRegression()\n",
    "train_x=np.asanyarray(train[['Area']])\n",
    "train_y=np.asanyarray(train[['Price']])\n",
    "regr.fit(train_x,train_y)\n",
    "coef=regr.coef_\n",
    "intercept=regr.intercept_\n",
    "print('coef', coef)\n",
    "print('intercept', intercept)"
   ]
  },
  {
   "cell_type": "code",
   "execution_count": 24,
   "id": "67ba7701",
   "metadata": {},
   "outputs": [
    {
     "data": {
      "text/plain": [
       "[<matplotlib.lines.Line2D at 0x228858a9850>]"
      ]
     },
     "execution_count": 24,
     "metadata": {},
     "output_type": "execute_result"
    },
    {
     "data": {
      "image/png": "[encoded data removed]",
      "text/plain": [
       "<Figure size 640x480 with 1 Axes>"
      ]
     },
     "metadata": {},
     "output_type": "display_data"
    }
   ],
   "source": [
    "plt.scatter(train['Area'], train['Price'], color='green')\n",
    "\n",
    "\n",
    "plt.plot(train_x, regr.coef_[0][0]* train_x+ regr.intercept_[0],'-r')"
   ]
  },
  {
   "cell_type": "code",
   "execution_count": 25,
   "id": "002ea269",
   "metadata": {},
   "outputs": [
    {
     "name": "stdout",
     "output_type": "stream",
     "text": [
      "r2_score 0.5445929868838464\n",
      "MAE 1976181505.5518494\n"
     ]
    }
   ],
   "source": [
    "from sklearn.metrics import r2_score\n",
    "test_x=np.asanyarray(test[['Area']])\n",
    "test_y=np.asanyarray(test[['Price']])\n",
    "test_y_=regr.predict(test_x)\n",
    "print('r2_score',r2_score(test_y,test_y_))\n",
    "print('MAE', np.mean(np.absolute(test_y_-test_y)))"
   ]
  },
  {
   "cell_type": "markdown",
   "id": "a71488f9",
   "metadata": {},
   "source": [
    "polynomial"
   ]
  },
  {
   "cell_type": "code",
   "execution_count": 26,
   "id": "b2e28eba",
   "metadata": {},
   "outputs": [
    {
     "data": {
      "text/plain": [
       "array([[1.0000e+00, 6.3000e+01, 3.9690e+03],\n",
       "       [1.0000e+00, 6.0000e+01, 3.6000e+03],\n",
       "       [1.0000e+00, 7.9000e+01, 6.2410e+03],\n",
       "       ...,\n",
       "       [1.0000e+00, 7.5000e+01, 5.6250e+03],\n",
       "       [1.0000e+00, 1.0500e+02, 1.1025e+04],\n",
       "       [1.0000e+00, 8.2000e+01, 6.7240e+03]])"
      ]
     },
     "execution_count": 26,
     "metadata": {},
     "output_type": "execute_result"
    }
   ],
   "source": [
    "#polynomial\n",
    "from sklearn.preprocessing import PolynomialFeatures\n",
    "from sklearn import linear_model\n",
    "train_x2=np.asanyarray(train[['Area']])\n",
    "train_y2=np.asanyarray(train[['Price']])\n",
    "\n",
    "test_x2=np.asanyarray(test[['Area']])\n",
    "test_y2=np.asanyarray(test[['Price']])\n",
    "\n",
    "poly=PolynomialFeatures(degree=2)\n",
    "train_x_poly=poly.fit_transform(train_x2)\n",
    "train_x_poly\n"
   ]
  },
  {
   "cell_type": "code",
   "execution_count": 27,
   "id": "e6b6fe1a",
   "metadata": {},
   "outputs": [
    {
     "name": "stdout",
     "output_type": "stream",
     "text": [
      "coefficient [[       0.         32076234.13902258   224878.30842515]]\n",
      "intercept [-1.31443284e+09]\n"
     ]
    }
   ],
   "source": [
    "reg1=linear_model.LinearRegression()\n",
    "reg1.fit(train_x_poly,train_y2)\n",
    "coefficient=reg1.coef_\n",
    "intercept=reg1.intercept_\n",
    "print('coefficient', coefficient)\n",
    "print('intercept', intercept)"
   ]
  },
  {
   "cell_type": "code",
   "execution_count": 28,
   "id": "70505333",
   "metadata": {},
   "outputs": [
    {
     "data": {
      "text/plain": [
       "[<matplotlib.lines.Line2D at 0x2288591f750>]"
      ]
     },
     "execution_count": 28,
     "metadata": {},
     "output_type": "execute_result"
    },
    {
     "data": {
      "image/png": "[encoded data removed]",
      "text/plain": [
       "<Figure size 640x480 with 1 Axes>"
      ]
     },
     "metadata": {},
     "output_type": "display_data"
    }
   ],
   "source": [
    "plt.scatter(train['Area'], train['Price'], color='green')\n",
    "xx=np.arange(0,300.0,10.0)\n",
    "yy=reg1.intercept_[0]+reg1.coef_[0][1]*xx+reg1.coef_[0][2]*np.power(xx,2)\n",
    "plt.plot(xx,yy,'-r')"
   ]
  },
  {
   "cell_type": "markdown",
   "id": "3d3b2832",
   "metadata": {},
   "source": [
    "non linear regression"
   ]
  },
  {
   "cell_type": "code",
   "execution_count": 29,
   "id": "fc1825eb",
   "metadata": {},
   "outputs": [
    {
     "name": "stdout",
     "output_type": "stream",
     "text": [
      "R2_score 0.5401757370979905\n",
      "mean absolute error 1856140831.5012674\n"
     ]
    }
   ],
   "source": [
    "from sklearn.metrics import r2_score\n",
    "test_x_poly= poly.fit_transform(test_x2)\n",
    "test_y_= reg1.predict(test_x_poly)\n",
    "print('R2_score',r2_score(test_y2,test_y_))\n",
    "print('mean absolute error',np.mean(np.absolute(test_y_- test_y2)))"
   ]
  },
  {
   "cell_type": "code",
   "execution_count": 30,
   "id": "ca04aba0",
   "metadata": {},
   "outputs": [],
   "source": [
    "xx=data2['Area']/max(data2['Area'])\n",
    "yy=data2['Price']/max(data2['Price'])"
   ]
  },
  {
   "cell_type": "code",
   "execution_count": 31,
   "id": "4cf36509",
   "metadata": {},
   "outputs": [],
   "source": [
    "def exponential(xx,a,b):\n",
    "    y=a*np.exp(b*xx)\n",
    "    return y"
   ]
  },
  {
   "cell_type": "code",
   "execution_count": 32,
   "id": "a072fc6e",
   "metadata": {},
   "outputs": [
    {
     "name": "stdout",
     "output_type": "stream",
     "text": [
      "[0.04815758 3.20491322]\n",
      "[[ 1.42469766e-06 -4.50271782e-05]\n",
      " [-4.50271782e-05  1.67197624e-03]]\n"
     ]
    }
   ],
   "source": [
    "from scipy.optimize import curve_fit\n",
    "a,b=curve_fit(exponential,xx,yy)\n",
    "print(a)\n",
    "print(b)"
   ]
  },
  {
   "cell_type": "code",
   "execution_count": 33,
   "id": "73131f52",
   "metadata": {},
   "outputs": [
    {
     "name": "stdout",
     "output_type": "stream",
     "text": [
      "0       0.094397\n",
      "1       0.091420\n",
      "2       0.111993\n",
      "3       0.132870\n",
      "4       0.179198\n",
      "          ...   \n",
      "3326    0.120689\n",
      "3327    0.116883\n",
      "3328    0.107308\n",
      "3329    0.147850\n",
      "3330    0.115641\n",
      "Name: Area, Length: 3331, dtype: float64\n"
     ]
    },
    {
     "data": {
      "text/plain": [
       "[<matplotlib.lines.Line2D at 0x2288619c650>]"
      ]
     },
     "execution_count": 33,
     "metadata": {},
     "output_type": "execute_result"
    },
    {
     "data": {
      "image/png": "[encoded data removed]",
      "text/plain": [
       "<Figure size 640x480 with 1 Axes>"
      ]
     },
     "metadata": {},
     "output_type": "display_data"
    }
   ],
   "source": [
    "yo= exponential (xx,0.04815758,3.20491322)\n",
    "print(yo)\n",
    "\n",
    "plt.plot(xx,yy,'go')\n",
    "plt.plot(xx,yo,'ro')"
   ]
  },
  {
   "cell_type": "code",
   "execution_count": 34,
   "id": "50f05e53",
   "metadata": {},
   "outputs": [
    {
     "name": "stdout",
     "output_type": "stream",
     "text": [
      "0.5567817087714966\n"
     ]
    }
   ],
   "source": [
    "from sklearn.metrics import r2_score\n",
    "\n",
    "r2_score=r2_score(yy,yo)\n",
    "print(r2_score)"
   ]
  },
  {
   "cell_type": "markdown",
   "id": "90b3f7a4",
   "metadata": {},
   "source": [
    "multiple regression"
   ]
  },
  {
   "cell_type": "code",
   "execution_count": 35,
   "id": "9c49f0cf",
   "metadata": {},
   "outputs": [],
   "source": [
    "dataa=data3[['Area','Price','Room']]"
   ]
  },
  {
   "cell_type": "code",
   "execution_count": 36,
   "id": "5b5f5e2f",
   "metadata": {},
   "outputs": [
    {
     "name": "stdout",
     "output_type": "stream",
     "text": [
      "[ True  True  True ...  True  True  True]\n",
      "       Area       Price  Room\n",
      "0      63.0  1850000000     1\n",
      "1      60.0  1850000000     1\n",
      "2      79.0   550000000     2\n",
      "3      95.0   902500000     2\n",
      "4     123.0  7000000000     2\n",
      "...     ...         ...   ...\n",
      "3325   63.0  1890000000     1\n",
      "3326   86.0  3500000000     2\n",
      "3328   75.0   365000000     2\n",
      "3329  105.0  5600000000     2\n",
      "3330   82.0   360000000     2\n",
      "\n",
      "[2685 rows x 3 columns]\n",
      "       Area        Price  Room\n",
      "7      59.0   2150000000     1\n",
      "13    136.0  11000000000     3\n",
      "19     42.0   1390000000     1\n",
      "22     65.0   1880000000     1\n",
      "23     99.0   2277000000     2\n",
      "...     ...          ...   ...\n",
      "3298   92.0   3220000000     2\n",
      "3299   45.0   1650000000     1\n",
      "3300   68.0   1000000000     2\n",
      "3312   58.0    325000000     1\n",
      "3327   83.0   6800000000     2\n",
      "\n",
      "[646 rows x 3 columns]\n"
     ]
    }
   ],
   "source": [
    "msk=np.random.rand(len(dataa)) < 0.8\n",
    "print(msk)\n",
    "train=dataa[msk]\n",
    "print(train)\n",
    "test=dataa[~msk]\n",
    "print(test)"
   ]
  },
  {
   "cell_type": "code",
   "execution_count": 37,
   "id": "8a0685c1",
   "metadata": {},
   "outputs": [
    {
     "name": "stdout",
     "output_type": "stream",
     "text": [
      "coef [[ 9.88866924e+07 -9.24789153e+08]]\n",
      "intercept [-3.48518648e+09]\n"
     ]
    }
   ],
   "source": [
    "from sklearn import linear_model\n",
    "regr=linear_model.LinearRegression()\n",
    "train_x=np.asanyarray(train[['Area','Room']])\n",
    "train_y=np.asanyarray(train[['Price']])\n",
    "regr.fit(train_x,train_y)\n",
    "coef=regr.coef_\n",
    "intercept=regr.intercept_\n",
    "print('coef', coef)\n",
    "print('intercept', intercept)"
   ]
  },
  {
   "cell_type": "code",
   "execution_count": 38,
   "id": "a2775257",
   "metadata": {},
   "outputs": [
    {
     "name": "stdout",
     "output_type": "stream",
     "text": [
      "MSE 6.853860794242029e+18\n",
      "variance score 0.6571737304050793\n"
     ]
    },
    {
     "data": {
      "text/plain": [
       "0.6571737304050793"
      ]
     },
     "execution_count": 38,
     "metadata": {},
     "output_type": "execute_result"
    }
   ],
   "source": [
    "from sklearn.metrics import r2_score\n",
    "y_hat=regr.predict(np.asanyarray(test[['Area','Room']]))\n",
    "xl=np.asanyarray(test[['Area','Room']])\n",
    "yg=np.asanyarray(test[['Price']])\n",
    "MSE=np.mean((y_hat - yg)**2)\n",
    "print('MSE',MSE)\n",
    "print('variance score',regr.score(xl,yg))\n",
    "r2=r2_score(yg,y_hat)\n",
    "r2"
   ]
  },
  {
   "cell_type": "code",
   "execution_count": 39,
   "id": "b41a09e5",
   "metadata": {},
   "outputs": [
    {
     "data": {
      "text/plain": [
       "array([[9.35519276e+10]])"
      ]
     },
     "execution_count": 39,
     "metadata": {},
     "output_type": "execute_result"
    }
   ],
   "source": [
    "prid=regr.predict([[1000,2]])\n",
    "prid"
   ]
  },
  {
   "cell_type": "code",
   "execution_count": null,
   "id": "0e2260ee",
   "metadata": {},
   "outputs": [],
   "source": []
  }
 ],
 "metadata": {
  "kernelspec": {
   "display_name": "Python 3 (ipykernel)",
   "language": "python",
   "name": "python3"
  },
  "language_info": {
   "codemirror_mode": {
    "name": "ipython",
    "version": 3
   },
   "file_extension": ".py",
   "mimetype": "text/x-python",
   "name": "python",
   "nbconvert_exporter": "python",
   "pygments_lexer": "ipython3",
   "version": "3.11.5"
  }
 },
 "nbformat": 4,
 "nbformat_minor": 5
}
